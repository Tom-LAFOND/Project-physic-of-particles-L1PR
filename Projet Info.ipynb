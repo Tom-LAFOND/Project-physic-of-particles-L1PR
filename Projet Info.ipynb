{
 "cells": [
  {
   "cell_type": "code",
   "execution_count": 3,
   "id": "b8a6e823-a6e7-4931-bd9d-9fc285f59b3a",
   "metadata": {},
   "outputs": [],
   "source": [
    "import random, math, copy"
   ]
  },
  {
   "cell_type": "markdown",
   "id": "e4539c9a-8833-444b-88a9-83a57c1bd413",
   "metadata": {},
   "source": [
    "## Fonctionnalités de base"
   ]
  },
  {
   "cell_type": "code",
   "execution_count": 4,
   "id": "76b51b7c-ad01-4b2b-8022-c9d061e52753",
   "metadata": {},
   "outputs": [],
   "source": [
    "# Question 1:\n",
    "def create_empty_matrix(nbcells, marge=0):\n",
    "  matrice = []\n",
    "  for i in range(nbcells + marge * 2):\n",
    "    submatrice = []\n",
    "    for j in range(nbcells + marge * 2):\n",
    "      submatrice.append(0)\n",
    "    matrice.append(submatrice)\n",
    "  return matrice\n",
    "\n",
    "\n",
    "# Question 2:\n",
    "\n",
    "\n",
    "def xy_to_ij(lst_xy, n_size_mat):\n",
    "  x, y = lst_xy[0], lst_xy[1]\n",
    "  # Il est necessaire de differencier le cas >1 et <1, car pour les coordonnees relatives alpha, beta, nous n'appliquons pas la transformation de la meme maniere.\n",
    "  if y > 1:\n",
    "    i, j = (-y + (n_size_mat - 1)), x\n",
    "  else:\n",
    "    i, j = (-y + 1), x\n",
    "  return [i, j]"
   ]
  },
  {
   "cell_type": "markdown",
   "id": "188c03e7-766d-46f7-ade3-208503f471fe",
   "metadata": {},
   "source": [
    "## Affichage de l'état du détecteur"
   ]
  },
  {
   "cell_type": "code",
   "execution_count": 6,
   "id": "be6e78ed-7cd9-4739-b8c7-5207e38d1176",
   "metadata": {},
   "outputs": [],
   "source": [
    "# Question 1:\n",
    "\n",
    "\n",
    "def print_matrix(matrice):\n",
    "  for i in range(len(matrice)):\n",
    "    for j in range(len(matrice[0])):\n",
    "      print(round(matrice[i][j], 2), end=\" \")\n",
    "    print()\n",
    "\n",
    "\n",
    "# Question 2:\n",
    "\n",
    "\n",
    "def print_matrix_bool(matrice):\n",
    "  for i in range(len(matrice)):\n",
    "    for j in range(len(matrice[0])):\n",
    "      if matrice[i][j] == 0:\n",
    "        print(\".\", end=\" \")\n",
    "      else:\n",
    "        print(\"#\", end=\" \")\n",
    "    print()\n",
    "\n",
    "\n",
    "def print_matrix_energy(matrice):\n",
    "  for i in range(len(matrice)):\n",
    "    for j in range(len(matrice[0])):\n",
    "      if matrice[i][j] > 0.75:\n",
    "        print(\"# \", end=\" \")\n",
    "      elif matrice[i][j] > 0.5:\n",
    "        print(\"* \", end=\" \")\n",
    "      elif matrice[i][j] > 0.25:\n",
    "        print(\"o \", end=\" \")\n",
    "      elif matrice[i][j] > 0.01:\n",
    "        print(\". \", end=\" \")\n",
    "      else:\n",
    "        print(\"--\", end=\" \")\n",
    "    print()"
   ]
  },
  {
   "cell_type": "markdown",
   "id": "32da6bc6-dac2-42db-b14d-a6eb99390a99",
   "metadata": {},
   "source": [
    "## Generation d'une particule"
   ]
  },
  {
   "cell_type": "code",
   "execution_count": 7,
   "id": "9a8116af-20bc-42a2-b8ee-f523338cd56a",
   "metadata": {},
   "outputs": [],
   "source": [
    "\n",
    "# Question 1:\n",
    "def generate_partic_coords(Xwidth):\n",
    "  Xvrai = random.random() * Xwidth\n",
    "  Yvrai = random.random() * Xwidth\n",
    "  return [round(Xvrai, 2), round(Yvrai, 2)]\n",
    "\n",
    "\n",
    "# Question 2:\n",
    "\n",
    "\n",
    "def calc_all_coords(lst_coords_in_det, lgr_cellule):\n",
    "  colonne = lst_coords_in_det[0] // lgr_cellule\n",
    "  ligne = lst_coords_in_det[1] // lgr_cellule\n",
    "\n",
    "  alpha = (lst_coords_in_det[0] % lgr_cellule) / lgr_cellule\n",
    "  beta = (lst_coords_in_det[1] % lgr_cellule) / lgr_cellule\n",
    "\n",
    "  return [colonne, ligne], [alpha, beta]"
   ]
  },
  {
   "cell_type": "markdown",
   "id": "f2981839-b532-4d85-8355-10d5ece6ef8e",
   "metadata": {},
   "source": [
    "## Simulation du signal créé dans le détecteur"
   ]
  },
  {
   "cell_type": "code",
   "execution_count": 8,
   "id": "4e76598b-e601-4ccb-ae05-52c645212c70",
   "metadata": {},
   "outputs": [],
   "source": [
    "\n",
    "# Fonction donnee (tous les commentaires y sont laisses)\n",
    "def calculate_fraction_E_in_cells(lst_coords_in_cell, matE, Xwidth, n_cells):\n",
    "  mat_size = 5\n",
    "  if len(matE) != mat_size:\n",
    "    print(\n",
    "        \"\\n\\n*** ATTENTION ***\\nLa taille de la matrice fournie en argument de calculate_fraction_E_in_cells n'a pas l'air correcte.\\nSortie anormale de la fonction.\\n\\n\\n\"\n",
    "    )\n",
    "    return None\n",
    "  if Xwidth != 100:\n",
    "    print(\"\\n\\n*** ATTENTION ***\\nLa largeur de detecteur recue est\", Xwidth,\n",
    "          \"cm au lieu de 100 cm.\\nSortie anormale de la fonction.\\n\\n\\n\")\n",
    "    return None\n",
    "  if not (5 <= n_cells <= 50):\n",
    "    print(\n",
    "        \"\\n\\n*** ATTENTION ***\\nLe nombre\", n_cells,\n",
    "        \" de cellules recu est invalide.\\nSortie anormale de la fonction.\\n\\n\\n\"\n",
    "    )\n",
    "    return None\n",
    "  #Quick trick to see an actual center for large n_cells and still keep fluctuations for low n_cells:\n",
    "  #nbTirages = int(100 * (n_cells / 20))\n",
    "  #Let's not use it eventually, fluctuations may be closer to reality this way.\n",
    "  nbTirages = 100\n",
    "  #Calo config rather than pixel.\n",
    "  #In this situation, shower width = 2.5 cm (a-la Moliere radius).\n",
    "  #In variable sigma though, shower width is stored in units of cell width.\n",
    "  #Therefore sigma = 2.5cm / cell_width, ie sigma = 2.5cm * n_cells / detector_width.\n",
    "  #1st limit is when 3 sigmas (in cm) becomes larger than 5x5 matrix diagonal = 2.5 cell_width sqrt(2). This gives n_cells < 2.5 Xwidth sqrt(2) / 3*2.5cm ~ 47.\n",
    "  #2nd limit is when 3 sigmas (in cm) is all in a single tower, ie n_cells > Xwidth / 3sigma ~ 13.\n",
    "  sigma = 2.5 * n_cells / Xwidth\n",
    "  #Just in case the user doesn't provide an empty matrix...\n",
    "  matRdm = create_empty_matrix(mat_size)\n",
    "  for i in range(0, nbTirages):\n",
    "    xRdm = random.gauss(float(mat_size // 2) + lst_coords_in_cell[0], sigma)\n",
    "    yRdm = random.gauss(float(mat_size // 2) + lst_coords_in_cell[1], sigma)\n",
    "    #In rare cases the random number is picked outside the interval [0,mat_size[, which triggers an out-of-range error when used in xy_to_ij / matRdm.\n",
    "    if xRdm < 0:\n",
    "      xRdm = 0\n",
    "    if yRdm < 0:\n",
    "      yRdm = 0\n",
    "    if xRdm >= mat_size:\n",
    "      xRdm = mat_size - 0.001\n",
    "    if yRdm >= mat_size:\n",
    "      yRdm = mat_size - 0.001\n",
    "    lst_Rdm = xy_to_ij([int(xRdm), int(yRdm)], mat_size)\n",
    "    matRdm[lst_Rdm[0]][lst_Rdm[1]] += 1\n",
    "  for i in range(mat_size):\n",
    "    for j in range(mat_size):\n",
    "      matE[i][j] = matRdm[i][j] / nbTirages\n",
    "  return None\n"
   ]
  },
  {
   "cell_type": "code",
   "execution_count": 9,
   "id": "e4cca46a-5f5f-4749-8405-4aac6f50c4e1",
   "metadata": {},
   "outputs": [],
   "source": [
    "# Question 1:\n",
    "\n",
    "\n",
    "def smear_energy(matE):\n",
    "  matE_smeared = copy.deepcopy(matE)\n",
    "  for i in range(len(matE_smeared)):\n",
    "    for j in range(len(matE_smeared)):\n",
    "      matE_smeared[i][j] = round(random.gauss(1, 0.05), 2)\n",
    "  return matE_smeared\n",
    "\n",
    "\n",
    "# Question 2:\n",
    "\n",
    "\n",
    "def apply_threshold(matE_smeared):\n",
    "  for i in range(len(matE_smeared)):\n",
    "    for j in range(len(matE_smeared)):\n",
    "      if matE_smeared[i][j] < 0.05:\n",
    "        matE_smeared[i][j] = 0\n"
   ]
  },
  {
   "cell_type": "markdown",
   "id": "e97c31b0-eab9-430f-8ee8-4cc89a274690",
   "metadata": {},
   "source": [
    "## Assemblage des différentes étapes"
   ]
  },
  {
   "cell_type": "code",
   "execution_count": 133,
   "id": "be4517fe-5d69-4faa-bd4b-289ef7a1b31a",
   "metadata": {},
   "outputs": [],
   "source": [
    "\n",
    "def simulate_signal(lst_coords_in_cell, Xwidth, nbcells):\n",
    "  matE = create_empty_matrix(5, marge=0)\n",
    "  calculate_fraction_E_in_cells(lst_coords_in_cell, matE, Xwidth, nbcells)\n",
    "  matE_smeared = smear_energy(\n",
    "      matE\n",
    "  )  # Matrice d'energie \"distibuee aleatoirement\" (copie, donc doit redefinir)\n",
    "  apply_threshold(matE_smeared)\n",
    "  return matE_smeared\n",
    "\n",
    "\n",
    "\"\"\"\n",
    "4.3 Intégration du signal simulé dans la marice globale du détecteur\n",
    "\"\"\"\n",
    "# Question 1:\n",
    "\n",
    "\n",
    "def launch_particle_on_detector(Xwidth, nbcells, marge, matrice):  # Attention, la marge n'est pas comprise dans Xwidth!\n",
    "  lgr_cellule = Xwidth / nbcells\n",
    "  #Ce sont les coordonnees vis-a-vis du detecteur (Xwidth), la marge n'est pas consideree.\n",
    "  lst_coords_in_det = generate_partic_coords(Xwidth)\n",
    "  coord_cellule = calc_all_coords(lst_coords_in_det,\n",
    "                                  lgr_cellule)[0]  #coordonnees xy\n",
    "  lst_coords_in_cell = calc_all_coords(lst_coords_in_det,\n",
    "                                       lgr_cellule)[1]  #coordonnees alpha beta\n",
    "  coord_cellule_computer = xy_to_ij(coord_cellule, nbcells)\n",
    "  lst_coords_in_cell_computer = xy_to_ij(lst_coords_in_cell, nbcells)\n",
    "  matE_smeared = simulate_signal(lst_coords_in_cell, Xwidth, nbcells)\n",
    "  for i in range(-2, 3):\n",
    "    for j in range(-2, 3):\n",
    "      # La matrice a une marge de 2 de chaque cote pour permettre a matE_smeared de rentrer sans erreur d'index\n",
    "        matrice[int(coord_cellule_computer[0]) + i +\n",
    "              2][int(coord_cellule_computer[1]) + j +\n",
    "                 2] = matrice[int(coord_cellule_computer[0]) + i +\n",
    "                              2][int(coord_cellule_computer[1]) + j +\n",
    "                                 2] + matE_smeared[i + 2][j + 2]\n",
    "  print(coord_cellule_computer)\n",
    "  print(\"aaaa\")\n",
    "  return lst_coords_in_det\n",
    "\n",
    "\n",
    "# Question 2:\n",
    "\n",
    "\n",
    "def create_event(Xwidth, nbcells, marge, matrice, nbparticles):\n",
    "  liste_coords = []\n",
    "  # Simule l'arrivee des particules\n",
    "  for loop in range((nbparticles)):\n",
    "    launch_particle_on_detector(Xwidth, nbcells, marge, matrice)\n",
    "    liste_coords.append(launch_particle_on_detector(Xwidth, nbcells, marge, matrice))\n",
    "  # Enleve la marge de la matrice\n",
    "  for i in range(len(matrice)):\n",
    "    for j in range(-2, 2):\n",
    "      matrice[i].pop(j)\n",
    "  for i in range(-2, 2):\n",
    "    matrice.pop(i)\n",
    "  return liste_coords\n",
    "\n",
    "\n",
    "# Question 3:\n",
    "\n",
    "\n",
    "def mon_main(nbcells):\n",
    "  Xwidth = 100\n",
    "  marge = 2\n",
    "  # Demander le nombre d'evenements et particules, verifier qu'il s'agit d'un nombre utilisable (>1).\n",
    "  nbevents = int(input(\"Combien d'evenements? \"))\n",
    "  while nbevents < 1:\n",
    "    nbevents = int(\n",
    "        input(\"Saisie erronnee, veuillez recommencer. Combien d'evenements? \"))\n",
    "  nbparticles = int(input(\"Combien de particules par evenement? \"))\n",
    "  while nbparticles < 1:\n",
    "    nbparticles = int(\n",
    "        input(\n",
    "            \"Saisie erronnee, veuillez recommencer. Combien de particules par evenement? \"\n",
    "        ))\n",
    "  # Creer chaque evenement\n",
    "  for loop in range(nbevents):\n",
    "    matrice = create_empty_matrix(nbcells, 2 * marge)\n",
    "    create_event(Xwidth, nbcells, marge, matrice, nbparticles)\n",
    "    print_matrix_energy(matrice)\n",
    "    print('\\n')\n",
    "    print(matrice)\n",
    "    print_matrix(matrice)\n"
   ]
  },
  {
   "cell_type": "code",
   "execution_count": 136,
   "id": "5ef3d41e-fdc5-47c6-853a-b8e0dd668a0f",
   "metadata": {
    "collapsed": true,
    "jupyter": {
     "outputs_hidden": true
    }
   },
   "outputs": [
    {
     "name": "stdin",
     "output_type": "stream",
     "text": [
      "Combien d'evenements?  1\n",
      "Combien de particules par evenement?  3\n"
     ]
    },
    {
     "name": "stdout",
     "output_type": "stream",
     "text": [
      "[4.0, 9.0]\n",
      "aaaa\n",
      "[0.0, 5.0]\n",
      "aaaa\n",
      "[1.0, 5.0]\n",
      "aaaa\n",
      "[1.0, 1.0]\n",
      "aaaa\n",
      "[1.0, 9.0]\n",
      "aaaa\n",
      "[4.0, 2.0]\n",
      "aaaa\n",
      "#  #  #  #  #  #  #  #  #  #  #  #  -- -- \n",
      "#  #  #  #  #  #  #  #  #  #  #  #  -- -- \n",
      "#  #  #  #  #  #  #  #  #  #  #  #  -- -- \n",
      "#  #  #  #  #  #  #  #  #  #  #  #  -- -- \n",
      "-- #  #  #  #  -- -- #  #  #  #  #  -- -- \n",
      "-- #  #  #  #  -- -- #  #  #  #  #  -- -- \n",
      "-- #  #  #  #  -- -- #  #  #  #  #  -- -- \n",
      "-- -- -- -- -- -- -- -- -- -- -- -- -- -- \n",
      "-- -- -- -- -- -- -- -- -- -- -- -- -- -- \n",
      "-- -- -- -- -- -- -- -- -- -- -- -- -- -- \n",
      "-- -- -- -- -- -- -- -- -- -- -- -- -- -- \n",
      "-- -- -- -- -- -- -- -- -- -- -- -- -- -- \n",
      "-- -- -- -- -- -- -- -- -- -- -- -- -- -- \n",
      "-- -- -- -- -- -- -- -- -- -- -- -- -- -- \n",
      "\n",
      "\n",
      "[[1.07, 1.09, 0.98, 3.09, 2.1100000000000003, 1.93, 2.04, 2.92, 1.03, 0.99, 1.06, 0.99, 0, 0], [0.9, 1.0, 1.05, 3.01, 2.0, 1.94, 1.99, 3.12, 0.99, 0.92, 0.99, 0.97, 0, 0], [1.05, 2.0, 2.04, 3.94, 2.95, 2.0700000000000003, 2.0, 4.220000000000001, 2.0, 2.04, 2.01, 1.76, 0, 0], [1.11, 1.92, 1.9700000000000002, 2.8899999999999997, 2.0300000000000002, 1.07, 1.07, 3.01, 2.05, 1.92, 2.1100000000000003, 1.95, 0, 0], [0, 1.05, 1.01, 1.01, 0.95, 0, 0, 0.88, 0.91, 0.86, 1.0, 1.05, 0, 0], [0, 1.01, 1.05, 1.03, 1.06, 0, 0, 1.04, 1.07, 0.96, 0.95, 0.97, 0, 0], [0, 0.93, 1.06, 0.91, 0.98, 0, 0, 0.99, 0.95, 0.99, 0.97, 0.94, 0, 0], [0, 0, 0, 0, 0, 0, 0, 0, 0, 0, 0, 0, 0, 0], [0, 0, 0, 0, 0, 0, 0, 0, 0, 0, 0, 0, 0, 0], [0, 0, 0, 0, 0, 0, 0, 0, 0, 0, 0, 0, 0, 0], [0, 0, 0, 0, 0, 0, 0, 0, 0, 0, 0, 0, 0, 0], [0, 0, 0, 0, 0, 0, 0, 0, 0, 0, 0, 0, 0, 0], [0, 0, 0, 0, 0, 0, 0, 0, 0, 0, 0, 0, 0, 0], [0, 0, 0, 0, 0, 0, 0, 0, 0, 0, 0, 0, 0, 0]]\n",
      "1.07 1.09 0.98 3.09 2.11 1.93 2.04 2.92 1.03 0.99 1.06 0.99 0 0 \n",
      "0.9 1.0 1.05 3.01 2.0 1.94 1.99 3.12 0.99 0.92 0.99 0.97 0 0 \n",
      "1.05 2.0 2.04 3.94 2.95 2.07 2.0 4.22 2.0 2.04 2.01 1.76 0 0 \n",
      "1.11 1.92 1.97 2.89 2.03 1.07 1.07 3.01 2.05 1.92 2.11 1.95 0 0 \n",
      "0 1.05 1.01 1.01 0.95 0 0 0.88 0.91 0.86 1.0 1.05 0 0 \n",
      "0 1.01 1.05 1.03 1.06 0 0 1.04 1.07 0.96 0.95 0.97 0 0 \n",
      "0 0.93 1.06 0.91 0.98 0 0 0.99 0.95 0.99 0.97 0.94 0 0 \n",
      "0 0 0 0 0 0 0 0 0 0 0 0 0 0 \n",
      "0 0 0 0 0 0 0 0 0 0 0 0 0 0 \n",
      "0 0 0 0 0 0 0 0 0 0 0 0 0 0 \n",
      "0 0 0 0 0 0 0 0 0 0 0 0 0 0 \n",
      "0 0 0 0 0 0 0 0 0 0 0 0 0 0 \n",
      "0 0 0 0 0 0 0 0 0 0 0 0 0 0 \n",
      "0 0 0 0 0 0 0 0 0 0 0 0 0 0 \n"
     ]
    }
   ],
   "source": [
    "mon_main(10)"
   ]
  },
  {
   "cell_type": "markdown",
   "id": "c5b2370c-536a-4176-acc3-77ea45b8fe8b",
   "metadata": {},
   "source": [
    "## Reconstruction d'un signal analysable"
   ]
  },
  {
   "cell_type": "code",
   "execution_count": 99,
   "id": "ddae1dc8-7818-48ba-91e1-1d0a4720aa6d",
   "metadata": {
    "collapsed": true,
    "jupyter": {
     "outputs_hidden": true
    }
   },
   "outputs": [
    {
     "name": "stdout",
     "output_type": "stream",
     "text": [
      "[0.0, 8.0]\n",
      "[2.0, 4.0]\n",
      "[6.0, 3.0]\n",
      "[1.0, 9.0]\n",
      "[6.0, 0.0]\n",
      "[7.0, 4.0]\n",
      "[0.0, 1.0]\n",
      "[0.0, 3.0]\n",
      "[1.0, 4.0]\n",
      "[6.0, 3.0]\n",
      "#  #  #  #  #  #  #  #  #  #  #  #  -- -- \n",
      "#  #  #  #  #  #  #  #  #  #  #  #  -- -- \n",
      "#  #  #  #  #  #  #  #  #  #  #  #  -- -- \n",
      "-- -- #  #  #  #  #  #  #  #  #  #  -- -- \n",
      "#  #  #  #  #  #  #  -- -- -- -- -- -- -- \n",
      "#  #  #  #  #  #  #  -- -- -- -- -- -- -- \n",
      "#  #  #  #  #  #  #  -- -- -- -- -- -- -- \n",
      "#  #  #  #  #  #  #  -- -- -- -- -- -- -- \n",
      "#  #  #  #  #  #  #  -- -- -- -- -- -- -- \n",
      "-- -- #  #  #  #  #  -- -- -- -- -- -- -- \n",
      "-- -- -- -- -- -- -- -- -- -- -- -- -- -- \n",
      "-- -- -- -- -- -- -- -- -- -- -- -- -- -- \n",
      "-- -- -- -- -- -- -- -- -- -- -- -- -- -- \n",
      "-- -- -- -- -- -- -- -- -- -- -- -- -- -- \n"
     ]
    }
   ],
   "source": [
    "def mesure_xy(matrice, lgr_cellule, capable_det_E=True):\n",
    "    "
   ]
  },
  {
   "cell_type": "code",
   "execution_count": null,
   "id": "bb87e478-f11b-4976-a1c6-c9d94092e02f",
   "metadata": {},
   "outputs": [],
   "source": []
  },
  {
   "cell_type": "code",
   "execution_count": null,
   "id": "306c3f98-2a3e-493a-9417-4413deccdcfe",
   "metadata": {},
   "outputs": [],
   "source": []
  }
 ],
 "metadata": {
  "kernelspec": {
   "display_name": "Python 3 (ipykernel)",
   "language": "python",
   "name": "python3"
  },
  "language_info": {
   "codemirror_mode": {
    "name": "ipython",
    "version": 3
   },
   "file_extension": ".py",
   "mimetype": "text/x-python",
   "name": "python",
   "nbconvert_exporter": "python",
   "pygments_lexer": "ipython3",
   "version": "3.12.3"
  }
 },
 "nbformat": 4,
 "nbformat_minor": 5
}
